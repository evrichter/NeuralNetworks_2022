{
 "cells": [
  {
   "cell_type": "markdown",
   "metadata": {
    "id": "ZT_S_io_85jk"
   },
   "source": [
    "# NNIA Assignment 3\n",
    "\n",
    "**DEADLINE: 30. 11. 2021 08:00 CET**  \n",
    "Submissions past the deadline (08.01) will **not** be graded!\n",
    "\n",
    "- Name & ID 1: Eva Richter (s8evrich), 2559531\n",
    "- Name & ID 2: Antonia (anwa00001), 7007542\n",
    "- Hours of work per person: 10\n",
    "\n",
    "# Submission Instructions\n",
    "\n",
    "**IMPORTANT** Please make sure you read the following instructions carefully. If you are unclear about any part of the assignment, ask questions **before** the assignment deadline. All course-related questions can be addressed on the course **[Piazza Platform](https://piazza.com/class/l9so16qqvk34hu)**.\n",
    "\n",
    "* Assignments are to be submitted in a **team of 2/3**.\n",
    "* Please include your **names**, **ID's**, **Teams usernames**, and **approximate total time spent per person** at the beginning of the Notebook in the space provided\n",
    "* Make sure you appropriately comment your code wherever required. \n",
    "* Your final submission should contain this completed Jupyter Notebook, including the bonus question (if you attempt it), and any necessary Python files.\n",
    "* Do **not** submit any data or cache files (e.g. `__pycache__`).\n",
    "* Upload the **zipped** folder (*.zip* is the only accepted extension) in **Teams**.\n",
    "* Only **one member** of the group should make the submisssion.\n",
    "* **Important** please name the submitted zip folder as: `Name1_id1_Name2_id2_Name3_id3.zip`. The Jupyter Notebook should also be named: `Name1_id1_Name2_id2_Name3_id3.ipynb`. This is **very important** for our internal organization.\n",
    "\n",
    "<font color=\"red\">Failure to follow the above instructions will result in point penalties at the discretion of the instructors.</font>."
   ]
  },
  {
   "cell_type": "markdown",
   "metadata": {
    "id": "b-Ur365126b3"
   },
   "source": [
    "# Regressions and Model Evaluation\n",
    "\n",
    "The objectives of the exercises in this assignment are:\n",
    "\n",
    "*   to develop an intuitive understanding of a regression model's trainable parameters\n",
    "*   to have a better understanding of PCA in practice \n",
    "*   to familiarize ourselves with how to fit various regression models\n",
    "*   to learn about various evaluation metrics and their characteristics\n",
    "\n",
    "Before going ahead with the exercises, recall the following information about Simple and Multiple Linear Regressions from the lecture slides.\n",
    "\n",
    "\n",
    "*   A *Simple Linear Regression* model predicts a quantitative response $y$ given a single predictor variable $x$ using the best fitting line $y \\approx mx + b$ for the observed data.\n",
    "\n",
    "*   In *Multiple Linear Regression*, the model predicts a quantitative response $y$ given multiple predictor variables by fitting a model $y \\approx w_{0} +w_{1}x_{1} + w_{2}x_{2} +... + w_{n}x_{n}$ to the observed data.\n",
    "\n",
    "*   An ideal model minizes the average squared distance between estimated response of the *i*−th sample $\\hat{y}^{train}$ and actual response $y^{train}$ of the *i*−th\n",
    "sample:\n",
    "\n",
    "\n",
    "$$MSE_{train} = \\frac{1}{m} \\sum_{i=1}^{m} (\\hat{y}_{i}^{train} - y_{i}^{train})^{2} $$\n",
    "\n",
    "*   To minimize $MSE_{train}$, we can set the gradient w.r.t. $w$ to $0$, solving for the weights or parameters $w$:\n",
    "\n",
    "$$w = (X_{train}^{T}X_{train})^{-1}X_{train}^{T}y_{train}$$"
   ]
  },
  {
   "cell_type": "markdown",
   "metadata": {},
   "source": [
    "# 1. Linear Regression Manually (2.5 points)\n",
    "\n",
    "In this task we ask you to solve linear regression manually to gain better understanding of internals of sklearn method, that you are allowed to use for next tasks.\n",
    "\n",
    "1.1 Implement linear regression manually following the instructions above (1.5 points)\n",
    "\n",
    "1.2 How does RMSE change depending on the test size? What does it show? (0.5 points)\n",
    "\n",
    "1.3 What makes this approach inefficient? (0.5 points)"
   ]
  },
  {
   "cell_type": "markdown",
   "metadata": {},
   "source": [
    "## 1.1 <font color=\"green\">Done</font>"
   ]
  },
  {
   "cell_type": "code",
   "execution_count": 45,
   "metadata": {},
   "outputs": [
    {
     "name": "stdout",
     "output_type": "stream",
     "text": [
      "The Root Mean Square Error for is:  52.382356168443614\n",
      "The Root Mean Square Error for is:  54.57653642487506\n",
      "The Root Mean Square Error for is:  59.45829460892974\n"
     ]
    },
    {
     "data": {
      "text/plain": [
       "(52.382356168443614, 54.57653642487506, 59.45829460892974)"
      ]
     },
     "execution_count": 45,
     "metadata": {},
     "output_type": "execute_result"
    }
   ],
   "source": [
    "from sklearn.datasets import fetch_california_housing, load_diabetes\n",
    "from sklearn.model_selection import train_test_split\n",
    "import numpy as np\n",
    "import math\n",
    "\n",
    "def manual_linear_regression(test_size: int = 0.1, seed: int = 42):\n",
    "    # Load the dataset.\n",
    "    dataset = load_diabetes()\n",
    "\n",
    "    # The input data are in `dataset.data`, targets are in `dataset.target`.\n",
    "    #print(dataset.data, dataset.target)\n",
    "\n",
    "    # If you want to learn more about the dataset, you can print some information\n",
    "    # about it using `print(dataset.DESCR)`.\n",
    "    # print(dataset.data.shape)\n",
    "\n",
    "    # TODO: Append a constant feature with value 1 to the end of every input data.\n",
    "    # Then we do not need to explicitly represent bias - it becomes the last weight.\n",
    "    input_data = dataset.data\n",
    "    target_data = dataset.target\n",
    "    constant_feature = np.ones((input_data.shape[0], 1))   \n",
    "    input_data = np.concatenate((input_data, constant_feature), axis = 1)    \n",
    "\n",
    "    # TODO: Split the dataset into a train set and a test set.\n",
    "    # Use `sklearn.model_selection.train_test_split` method call, passing\n",
    "    # arguments `test_size, random_state=seed`.\n",
    "    x_train, x_test, y_train, y_test = train_test_split(input_data, target_data, test_size=test_size, random_state=seed)\n",
    "    \n",
    "    # TODO: Solve the linear regression using the algorithm from the lecture,\n",
    "    # explicitly computing the matrix inverse (using `np.linalg.inv`). \n",
    "    w = np.dot(np.dot(np.linalg.inv(np.dot(x_train.transpose(), x_train)), x_train.transpose()), y_train)    \n",
    "    \n",
    "    # TODO: Predict target values on the test set.\n",
    "    # y_predicted = np.matmul(w.transpose(), x_test.transpose())\n",
    "    y_predicted = np.dot(x_test, w)\n",
    "   \n",
    "    # TODO: Manually compute root mean square error on the test set predictions.\n",
    "    summation = 0  #variable to store the summation of differences\n",
    "    n = len(y_predicted) #finding total number of items in list of predictions (y_predicted)\n",
    "    \n",
    "    for i in range (0,n):  #looping through each element of the list from 0 to end of y_predicted\n",
    "        \n",
    "        difference = y_predicted[i] - y_test[i]  #finding the difference between observed and predicted value\n",
    "        squared_difference = difference**2  #taking square of the differene \n",
    "        summation = summation + squared_difference  #taking a sum of all the differences\n",
    "    \n",
    "    mse = summation/n  #dividing summation by total values to obtain average\n",
    "    rmse = math.sqrt(mse) #taking square root of the mse\n",
    "    \n",
    "    print(\"The Root Mean Square Error for is: \" , rmse)\n",
    "    return rmse\n",
    "\n",
    "\n",
    "manual_linear_regression(), manual_linear_regression(test_size=0.5), manual_linear_regression(test_size=0.9)"
   ]
  },
  {
   "cell_type": "markdown",
   "metadata": {},
   "source": [
    "### 1.2 <font color=\"green\">Done</font>\n",
    "\n",
    "The RMSE increases as the test size increases: RMSE is the highest for the biggest test size (0.9), then for the middle test size (0.5) and the lowest for the smallest test size (0.1). This is because an increase in the test size automatically causes a decrease in the size of the training data. Since using a smaller training size results in the model seing less training examples based on which it has to predict more examples of the test set, it makes sense that the error for an increasing test set size also increases.\n",
    "\n",
    "### 1.3 <font color=\"green\">Done</font>\n",
    "\n",
    "Due to being computationally expensive and numerically unstable computing linear regression in this way is not optimal/inefficient."
   ]
  },
  {
   "cell_type": "markdown",
   "metadata": {},
   "source": [
    "## 2 Efficient Linear Regression (3.5 points)\n",
    "\n",
    "For the other tasks, we will be working with the [California Housing Dataset](https://scikit-learn.org/stable/datasets/real_world.html#california-housing-dataset) unless otherwise indicated.\n",
    "Recall that there are 8 features that influence the housing prices in California according to this dataset. \n",
    "\n",
    "Although we want to consider as many predictive features as we can in our model, doing so may not necessarily be practical or desirable. Let's consider an assumption that Linear Regression is an algorithm that takes one extra hour to compute for every input feature (it does not but some models may work like this). Therefore, for the sake of efficiency, we want to limit the number of features in the dataset to 3.\n",
    "\n",
    "## 2.1 Dimensions $8 \\rightarrow 3$ (2 points)\n",
    "\n",
    "To reduce the 8 features to 3, we need to find out which features we should keep and which ones we can ignore. Implement the following two methods to find out:\n",
    "\n",
    "1. Try all subsets of size 3 of all the features and report which subset results in a Linear Regression model with the lowest MSE. (1 points)\n",
    "2. Perform PCA to 3 dimensions (components) and fit a Linear Regression using these 3 features. Report the 3 features selected by PCA and the MSE. (0.5 points)\n",
    "3. Compare the approaches and name one advantage of each over the other method. Comment on any insight you gain about the relationship between housing prices and the selected features in the dataset. (0.5 points)"
   ]
  },
  {
   "cell_type": "markdown",
   "metadata": {
    "id": "GWUfkmjdIXNS"
   },
   "source": [
    "### 2.1.1 <font color=\"green\">Done</font>"
   ]
  },
  {
   "cell_type": "code",
   "execution_count": 46,
   "metadata": {},
   "outputs": [
    {
     "name": "stdout",
     "output_type": "stream",
     "text": [
      "The autoreload extension is already loaded. To reload it, use:\n",
      "  %reload_ext autoreload\n",
      "For subset:  ['MedInc', 'HouseAge', 'AveRooms'] The Mean Squared Error is:  0.6496608827746709\n",
      "For subset:  ['MedInc', 'HouseAge', 'AveBedrms'] The Mean Squared Error is:  0.653432119800549\n",
      "For subset:  ['MedInc', 'HouseAge', 'Population'] The Mean Squared Error is:  0.6524644655188551\n",
      "For subset:  ['MedInc', 'HouseAge', 'AveOccup'] The Mean Squared Error is:  0.651544297323149\n",
      "For subset:  ['MedInc', 'HouseAge', 'Latitude'] The Mean Squared Error is:  0.6428821991178659\n",
      "For subset:  ['MedInc', 'HouseAge', 'Longitude'] The Mean Squared Error is:  0.6533445563317425\n",
      "For subset:  ['MedInc', 'AveRooms', 'AveBedrms'] The Mean Squared Error is:  0.6541749417574403\n",
      "For subset:  ['MedInc', 'AveRooms', 'Population'] The Mean Squared Error is:  0.6916413203415845\n",
      "For subset:  ['MedInc', 'AveRooms', 'AveOccup'] The Mean Squared Error is:  0.6913124252392114\n",
      "For subset:  ['MedInc', 'AveRooms', 'Latitude'] The Mean Squared Error is:  0.6847831073780376\n",
      "For subset:  ['MedInc', 'AveRooms', 'Longitude'] The Mean Squared Error is:  0.691329635947007\n",
      "For subset:  ['MedInc', 'AveBedrms', 'Population'] The Mean Squared Error is:  0.7000429369768129\n",
      "For subset:  ['MedInc', 'AveBedrms', 'AveOccup'] The Mean Squared Error is:  0.6993184146572072\n",
      "For subset:  ['MedInc', 'AveBedrms', 'Latitude'] The Mean Squared Error is:  0.6904532907506257\n",
      "For subset:  ['MedInc', 'AveBedrms', 'Longitude'] The Mean Squared Error is:  0.6994333086808917\n",
      "For subset:  ['MedInc', 'Population', 'AveOccup'] The Mean Squared Error is:  0.6984774384996092\n",
      "For subset:  ['MedInc', 'Population', 'Latitude'] The Mean Squared Error is:  0.6885412118288048\n",
      "For subset:  ['MedInc', 'Population', 'Longitude'] The Mean Squared Error is:  0.6986477508471663\n",
      "For subset:  ['MedInc', 'AveOccup', 'Latitude'] The Mean Squared Error is:  0.6887021644793719\n",
      "For subset:  ['MedInc', 'AveOccup', 'Longitude'] The Mean Squared Error is:  0.6976707142394569\n",
      "For subset:  ['MedInc', 'Latitude', 'Longitude'] The Mean Squared Error is:  0.5535797036700202\n",
      "For subset:  ['HouseAge', 'AveRooms', 'AveBedrms'] The Mean Squared Error is:  1.1192510722614406\n",
      "For subset:  ['HouseAge', 'AveRooms', 'Population'] The Mean Squared Error is:  1.2770737020527925\n",
      "For subset:  ['HouseAge', 'AveRooms', 'AveOccup'] The Mean Squared Error is:  1.2773372229220623\n",
      "For subset:  ['HouseAge', 'AveRooms', 'Latitude'] The Mean Squared Error is:  1.2419147806536555\n",
      "For subset:  ['HouseAge', 'AveRooms', 'Longitude'] The Mean Squared Error is:  1.2771661251105102\n",
      "For subset:  ['HouseAge', 'AveBedrms', 'Population'] The Mean Squared Error is:  1.3146956607422915\n",
      "For subset:  ['HouseAge', 'AveBedrms', 'AveOccup'] The Mean Squared Error is:  1.3138560722007626\n",
      "For subset:  ['HouseAge', 'AveBedrms', 'Latitude'] The Mean Squared Error is:  1.2874913540984492\n",
      "For subset:  ['HouseAge', 'AveBedrms', 'Longitude'] The Mean Squared Error is:  1.3131210582907653\n",
      "For subset:  ['HouseAge', 'Population', 'AveOccup'] The Mean Squared Error is:  1.3157480618103907\n",
      "For subset:  ['HouseAge', 'Population', 'Latitude'] The Mean Squared Error is:  1.288452558288792\n",
      "For subset:  ['HouseAge', 'Population', 'Longitude'] The Mean Squared Error is:  1.3149688569260374\n",
      "For subset:  ['HouseAge', 'AveOccup', 'Latitude'] The Mean Squared Error is:  1.2877445272529648\n",
      "For subset:  ['HouseAge', 'AveOccup', 'Longitude'] The Mean Squared Error is:  1.3142558876647277\n",
      "For subset:  ['HouseAge', 'Latitude', 'Longitude'] The Mean Squared Error is:  1.008486235322036\n",
      "For subset:  ['AveRooms', 'AveBedrms', 'Population'] The Mean Squared Error is:  1.1547664504188861\n",
      "For subset:  ['AveRooms', 'AveBedrms', 'AveOccup'] The Mean Squared Error is:  1.1543580518967582\n",
      "For subset:  ['AveRooms', 'AveBedrms', 'Latitude'] The Mean Squared Error is:  1.114738691043574\n",
      "For subset:  ['AveRooms', 'AveBedrms', 'Longitude'] The Mean Squared Error is:  1.1546647240670613\n",
      "For subset:  ['AveRooms', 'Population', 'AveOccup'] The Mean Squared Error is:  1.2999064536755347\n",
      "For subset:  ['AveRooms', 'Population', 'Latitude'] The Mean Squared Error is:  1.2649653917081503\n",
      "For subset:  ['AveRooms', 'Population', 'Longitude'] The Mean Squared Error is:  1.2983565421284473\n",
      "For subset:  ['AveRooms', 'AveOccup', 'Latitude'] The Mean Squared Error is:  1.2655124838264868\n",
      "For subset:  ['AveRooms', 'AveOccup', 'Longitude'] The Mean Squared Error is:  1.2977823651409885\n",
      "For subset:  ['AveRooms', 'Latitude', 'Longitude'] The Mean Squared Error is:  0.9181032302110552\n",
      "For subset:  ['AveBedrms', 'Population', 'AveOccup'] The Mean Squared Error is:  1.3269640452483924\n",
      "For subset:  ['AveBedrms', 'Population', 'Latitude'] The Mean Squared Error is:  1.2996391344174059\n",
      "For subset:  ['AveBedrms', 'Population', 'Longitude'] The Mean Squared Error is:  1.325182322574996\n",
      "For subset:  ['AveBedrms', 'AveOccup', 'Latitude'] The Mean Squared Error is:  1.3013369765502991\n",
      "For subset:  ['AveBedrms', 'AveOccup', 'Longitude'] The Mean Squared Error is:  1.3251468125685086\n",
      "For subset:  ['AveBedrms', 'Latitude', 'Longitude'] The Mean Squared Error is:  1.0038026168315197\n",
      "For subset:  ['Population', 'AveOccup', 'Latitude'] The Mean Squared Error is:  1.3011215579685906\n",
      "For subset:  ['Population', 'AveOccup', 'Longitude'] The Mean Squared Error is:  1.3275351978333498\n",
      "For subset:  ['Population', 'Latitude', 'Longitude'] The Mean Squared Error is:  1.006453327351393\n",
      "For subset:  ['AveOccup', 'Latitude', 'Longitude'] The Mean Squared Error is:  1.0083423918775354\n",
      "------------------------\n",
      "Subset with the lowest_mse:  ['MedInc', 'Latitude', 'Longitude']\n",
      "Lowest_mse:  0.5535797036700202\n"
     ]
    }
   ],
   "source": [
    "%load_ext autoreload\n",
    "%autoreload 2\n",
    "    \n",
    "# from solution import ....\n",
    "# import your function from your .py file here and run this cell when you're done!\n",
    "# outputs should be MSEs and feature names\n",
    "from solution import subset_selection_8_3\n",
    "subset_selection_8_3()"
   ]
  },
  {
   "cell_type": "markdown",
   "metadata": {
    "id": "TIelNBj9IdbO"
   },
   "source": [
    "### 2.1.2 <font color=\"green\">Done</font>"
   ]
  },
  {
   "cell_type": "code",
   "execution_count": 47,
   "metadata": {},
   "outputs": [
    {
     "name": "stdout",
     "output_type": "stream",
     "text": [
      "Features selected by PCA: ['Latitude', 'AveRooms', 'Population']\n",
      "MSE of features selected by PCA: 1.2649653917081498\n"
     ]
    }
   ],
   "source": [
    "# from solution import ....\n",
    "# import your function from your .py file here and run this cell when you're done!\n",
    "# outputs should be MSE and feature names\n",
    "\n",
    "from solution import pca_8_3\n",
    "pca_8_3()"
   ]
  },
  {
   "cell_type": "markdown",
   "metadata": {
    "id": "1_DByZGSdOEg"
   },
   "source": [
    "### 2.1.3 <font color=\"green\">Done</font>\n",
    "\n",
    "The first approach has a smaller MSE (0.55) than the pca-based approach (1.26) and is therefore better in this respect. In addition, the first approach is more transparent, as the original features are retained. In this context, there is also no loss of information as with PCA, since the dimensions are retained and not compressed.  \n",
    "On the other hand, PCA has the advantage that it is computationally less expensive because the features are compressed and it's not necessary to go through all possible combinations like in the first approach. In this case, there were \"only 56\" possible subsets, but this number would increase exponentially with an increasing number of features, which is computationally unfavourable. Since the respective principal components are combinations of all original features, all features are ultimately present in the principal components and thus in the linear regression model. However, it is more difficult to analyse and explain them because they are combinations of features and not concrete features as is the case in the first approach.\n",
    "\n",
    "We can conclude that using the first approach the most useful features from our set to make predictions about the housing prices are median income in block group, average number of rooms per household and median house age in block group. These features are the best predictors for the price of a house. Using the second approach the most of the variance in the data was found to be explained by block group latitude, average number of rooms per household and block group population.\n",
    "\n",
    "Since \"MedInc\" and \"Latitude\" are selected as the strongest predictors, it shows that they have a particularly strong influence. However, the only feature selected from both approaches is \"Latitude\". It occurs in the subset of three features using the first approach and is also the feature selected by pca because it has the strongest relationship to the first principal component.\n",
    "\n"
   ]
  },
  {
   "cell_type": "markdown",
   "metadata": {},
   "source": []
  },
  {
   "cell_type": "markdown",
   "metadata": {
    "id": "O-pS81_N4RJF"
   },
   "source": [
    "## 2.2 Dimensions $8 \\rightarrow 1$ (1.5 points)\n",
    "\n",
    "Having to visualize the data across multiple dimensions can be cumbsersome. Let's perform the same task as in 2.1 but this time consider only one feature (both a subset of the 8 features and PCA with 1 component). This way it will be easier to visualize the relationaship of your predictive and target variables. Of course, you still want to select the feature that will result in the best performing model.\n",
    "\n",
    "Your output should include:\n",
    "\n",
    "1.   The respective MSEs (only the lowest MSE for the subset is fine.)\n",
    "2.   Make [a scatter plot](https://en.wikipedia.org/wiki/Scatter_plot) of the data with prices on the $y$ axis and the single feature/principal component on the $x$ axis. In the plot, also include a line as defined by the Linear Regression. (Make sure you don't forget to set the correct slope and y-intercept (constant))."
   ]
  },
  {
   "cell_type": "code",
   "execution_count": 48,
   "metadata": {
    "colab": {
     "base_uri": "https://localhost:8080/"
    },
    "executionInfo": {
     "elapsed": 37,
     "status": "ok",
     "timestamp": 1636738522928,
     "user": {
      "displayName": "Vilém Zouhar",
      "photoUrl": "https://lh3.googleusercontent.com/a-/AOh14GjqsASJYVkME5c30t4iFtrEDz__wtyoHv63qsWl4A=s64",
      "userId": "15042577288802340958"
     },
     "user_tz": -60
    },
    "id": "rbBzhK6f42J2",
    "outputId": "b0ef4961-7287-493b-e8b8-aacd7dd83209"
   },
   "outputs": [
    {
     "name": "stdout",
     "output_type": "stream",
     "text": [
      "Feature selected by LR:  MedInc\n",
      "MSE of selected feature:  [0.70113115]\n"
     ]
    },
    {
     "data": {
      "image/png": "[encoded data removed]",
      "text/plain": [
       "<Figure size 432x288 with 1 Axes>"
      ]
     },
     "metadata": {
      "needs_background": "light"
     },
     "output_type": "display_data"
    },
    {
     "name": "stdout",
     "output_type": "stream",
     "text": [
      "Feature selected by PCA: ['Latitude']\n",
      "MSE of feature selected by PCA: 1.3038777748380384\n"
     ]
    },
    {
     "data": {
      "image/png": "[encoded data removed]",
      "text/plain": [
       "<Figure size 432x288 with 1 Axes>"
      ]
     },
     "metadata": {
      "needs_background": "light"
     },
     "output_type": "display_data"
    }
   ],
   "source": [
    "# from solution import ....\n",
    "\n",
    "# import your function from your .py file here and run this cell when you're done!\n",
    "# outputs should be the MSEs, feauture names, and plots (make sure to label your plots!)\n",
    "\n",
    "from solution import feature_selection_8_1\n",
    "\n",
    "feature_selection_8_1()"
   ]
  },
  {
   "cell_type": "markdown",
   "metadata": {
    "id": "nxMm8kFf_DYF"
   },
   "source": [
    "## 3 Manual Regression (4 points)\n",
    "\n",
    "Now that you are a bit more familiar with the data and the features. This exercise aims to develop some intuition behind regressions by manually adjusting the parameters (coefficients and intercept) in the model. The functions below all perform regression (predicting a real value) but they are far from perfect. Your goal is to improve the four functions from the initial ones in the `code cells` as follows:\n",
    "\n",
    "1. `hand_base` should serve as a baseline. The constraint is that it should only return a *single (constant) number* for all values. In other words, this is a model with no adjustable parameters. However, for the dataset there exists a unique value that minimizes the Mean Squared Error (MSE). Which one is it? (0.5 points) \n",
    "2. `hand_linear` should be a reasonable *linear* function that utilizes the input feature(s). Note that it should be strictly linear, that is in the form $\\sum \\lambda_i x_i+\\lambda_{const}$ where $\\lambda_k$ and $\\lambda_{const}$ are the coefficients and intercept that you can estimate from the given data by *trial and error*. Your estimates should be reasonable, i.e. definitely better than `hand_base`. Do this exercise before proceeding to the next function where you will obtain the coefficients and intercepts from fitting a Linear Regression model using *sklearn*. We will award full points based on any justified solution that's better than `hand_base`. Make sure that you read what the features mean and argue why you chose the specific formula. (1 point) (Note: we are *not* asking you to compute the coefficients and intercept, but rather play around with adjusting the coefficients and intercept manually to arrive at your best estimate.)\n",
    "3. `auto_linear`, obtain the coefficients and intercept from fitting a Linear Regression model using `sklearn`.\n",
    "(Consult [sklearn Linear Regression Documention](https://scikit-learn.org/stable/modules/generated/sklearn.linear_model.LinearRegression.html) on how to obtain the model's coefficients and intercept.) (1 point)\n",
    "\n",
    "4. `hand_complex` does not have any restriction on the content of the function. It can contain polynomial relationships (e.g. `x[0]*x[0]`), `if-else` statements, etc.) Now that you have both your hand crafted model and the one from `sklearn`, improve upon either of the models (or you can start with the parameters in the `auto_linear` model) so that the performance of the `hand_complex` is better than `auto_linear`.\n",
    "What are the disadvantages of this more complex approach apart from the difficulty of creating it? (Hint: think about unseen data.)\n",
    "\n",
    "Always comment on what led you to select the specific values."
   ]
  },
  {
   "cell_type": "markdown",
   "metadata": {
    "id": "13EgQJtJdu7w"
   },
   "source": [
    "## 3 <font color=\"green\">Done</font>\n",
    "\n",
    "Modify the functions in the `code cell` below.\n"
   ]
  },
  {
   "cell_type": "code",
   "execution_count": 49,
   "metadata": {
    "colab": {
     "base_uri": "https://localhost:8080/"
    },
    "executionInfo": {
     "elapsed": 211,
     "status": "ok",
     "timestamp": 1636912009088,
     "user": {
      "displayName": "Noonsky Noon",
      "photoUrl": "https://lh3.googleusercontent.com/a/default-user=s64",
      "userId": "14548880660870589126"
     },
     "user_tz": 480
    },
    "id": "yo0nFWosRS_T",
    "outputId": "c0c3d622-4009-431d-a93a-dfad3701ef95"
   },
   "outputs": [
    {
     "name": "stdout",
     "output_type": "stream",
     "text": [
      "The autoreload extension is already loaded. To reload it, use:\n",
      "  %reload_ext autoreload\n",
      "Training mse: 0.5243209861846072\n",
      "coefficients: [ 4.36693293e-01  9.43577803e-03 -1.07322041e-01  6.45065694e-01\n",
      " -3.97638942e-06 -3.78654265e-03 -4.21314378e-01 -4.34513755e-01]\n",
      "intercept -36.94192020718439\n",
      "MSE Hand-Base: 1.34\n",
      "MSE Hand-Linear: 13.96\n",
      "MSE Auto-LR: 0.52\n",
      "MSE Hand-Complex: 5.61\n"
     ]
    }
   ],
   "source": [
    "%load_ext autoreload\n",
    "%autoreload 2\n",
    "import numpy as np\n",
    "import sklearn\n",
    "from sklearn.linear_model import LinearRegression\n",
    "from sklearn.datasets import fetch_california_housing\n",
    "from sklearn.metrics import mean_squared_error as mse\n",
    "from sklearn.tree import DecisionTreeRegressor\n",
    "\n",
    "\n",
    "housing= fetch_california_housing(return_X_y=True)\n",
    "housing_x=housing[0]\n",
    "housing_y=housing[1]\n",
    "\n",
    "\n",
    "def hand_base(x):\n",
    "    # Done: choose better single value\n",
    "    # By trial and error we find out that 2 minimizes the mse to 1.34\n",
    "    return 2\n",
    "\n",
    "\n",
    "def hand_linear(x):\n",
    "    # TODO: make me better but only linearly\n",
    "    sum=0.4*x[0]+0*x[1]-0.1*x[2]+0.7*x[3]-0*x[4]-0*x[5]-0.4*x[6]-0.4*x[7]\n",
    "    return sum+lin_regressor.intercept_\n",
    "  \n",
    "\n",
    "# TODO:\n",
    "# 1. Fit LinearRegression\n",
    "# 2. Report training MSE\n",
    "# 3. Examine the coefficients and intercept and use them for the `auto_linear` function\n",
    "# <https://scikit-learn.org/stable/modules/generated/sklearn.linear_model.LinearRegression.html>\n",
    "\n",
    "lin_regressor = LinearRegression()\n",
    "lin_regressor.fit(housing_x,housing_y)\n",
    "print(\"Training mse:\",mse(housing_y,lin_regressor.predict(housing_x)))\n",
    "print(\"coefficients:\",lin_regressor.coef_)\n",
    "print(\"intercept\",lin_regressor.intercept_)\n",
    "\n",
    "def auto_linear(x):\n",
    "     # TODO: use coefficients from your linear regression    \n",
    "    sum=0\n",
    "    for i in range(0,8):\n",
    "        sum+=lin_regressor.coef_[i]*x[i]\n",
    "    return sum+lin_regressor.intercept_\n",
    "\n",
    "\n",
    "def hand_complex(x):\n",
    "    # TODO: make me better than the auto_linear function\n",
    "    #DecisionTreeRegressor class has many parameters. Input only #random_state=0 or 42.\n",
    "    #Fit the regressor object to the dataset.\n",
    "    #sum=0\n",
    "    #for i in range(0,8):\n",
    "    #    sum+=regressor.feature_importances_*x[i]\n",
    "    # return sum\n",
    "     return 0   \n",
    "\n",
    "\n",
    "print(f\"MSE Hand-Base: {mse(housing_y,[hand_base(x) for x in housing_x]):.2f}\")\n",
    "print(f\"MSE Hand-Linear: {mse(housing_y, [hand_linear(x) for x in housing_x]):.2f}\")\n",
    "print(f\"MSE Auto-LR: {mse(housing_y, [auto_linear(x) for x in housing_x]):.2f}\")\n",
    "\n",
    "#regressor = DecisionTreeRegressor(random_state=0)\n",
    "#regressor.fit(housing_x,housing_y)\n",
    "#print(regressor.feature_importances_)\n",
    "print(f\"MSE Hand-Complex: {mse(housing_y, [hand_complex(x) for x in housing_x]):.2f}\")\n"
   ]
  },
  {
   "cell_type": "markdown",
   "metadata": {
    "id": "C5Pu7huYRyoW"
   },
   "source": [
    "# Bonus. Polynomial Regression and Overfitting (1 point):\n",
    "\n",
    "Find out how incorporating more features affects our model on the [California Housing Dataset](https://scikit-learn.org/stable/datasets/real_world.html#california-housing-dataset).\n",
    "\n",
    "1. Transform the feature space using polynomial features: <https://scikit-learn.org/stable/modules/generated/sklearn.preprocessing.PolynomialFeatures.html> (hint: make use of the Pipeline class) and run a regression model on top of it. Use degrees 1, 2, 3 and 4. \n",
    "\n",
    "2. Make a scatter plot with polynomial degree on the x-axis and training MSE on the y axis. What is an essential caveat to expanding the original feature space like this? (Hint: Think of unseen data again.)"
   ]
  },
  {
   "cell_type": "markdown",
   "metadata": {
    "id": "5MdJPr9lDtUd"
   },
   "source": [
    "## Bonus: <font color=\"red\">To Do</font>\n"
   ]
  },
  {
   "cell_type": "code",
   "execution_count": 50,
   "metadata": {
    "colab": {
     "base_uri": "https://localhost:8080/",
     "height": 314
    },
    "executionInfo": {
     "elapsed": 2112,
     "status": "ok",
     "timestamp": 1636738647952,
     "user": {
      "displayName": "Vilém Zouhar",
      "photoUrl": "https://lh3.googleusercontent.com/a-/AOh14GjqsASJYVkME5c30t4iFtrEDz__wtyoHv63qsWl4A=s64",
      "userId": "15042577288802340958"
     },
     "user_tz": -60
    },
    "id": "ccreCT1RDscQ",
    "outputId": "9282782f-00d0-4e8c-f891-823a434c6c85"
   },
   "outputs": [
    {
     "name": "stdout",
     "output_type": "stream",
     "text": [
      "The autoreload extension is already loaded. To reload it, use:\n",
      "  %reload_ext autoreload\n"
     ]
    }
   ],
   "source": [
    "%load_ext autoreload\n",
    "%autoreload 2\n",
    "  \n",
    "# from solution import ....\n",
    "# import your function from your .py file here and run this cell when you're done!"
   ]
  }
 ],
 "metadata": {
  "colab": {
   "collapsed_sections": [],
   "name": "revised_assignment_2.ipynb",
   "provenance": []
  },
  "kernelspec": {
   "display_name": "Python 3.8.10 64-bit",
   "language": "python",
   "name": "python3"
  },
  "language_info": {
   "codemirror_mode": {
    "name": "ipython",
    "version": 3
   },
   "file_extension": ".py",
   "mimetype": "text/x-python",
   "name": "python",
   "nbconvert_exporter": "python",
   "pygments_lexer": "ipython3",
   "version": "3.8.10"
  },
  "vscode": {
   "interpreter": {
    "hash": "916dbcbb3f70747c44a77c7bcd40155683ae19c65e1c03b4aa3499c5328201f1"
   }
  }
 },
 "nbformat": 4,
 "nbformat_minor": 4
}
