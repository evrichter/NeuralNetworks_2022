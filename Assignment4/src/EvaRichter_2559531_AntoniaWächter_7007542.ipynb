{
 "cells": [
  {
   "cell_type": "markdown",
   "metadata": {
    "id": "ZT_S_io_85jk"
   },
   "source": [
    "# NNIA Assignment 4\n",
    "\n",
    "**DEADLINE: 7. 12. 2021 08:00 CET**  \n",
    "Submission more than 10 minutes past the deadline will **not** be graded!\n",
    "\n",
    "- Name & ID 1: Eva Richter, 2559531\n",
    "- Name & ID 2: Antonia Wächter, 7007542\n",
    "- Hours of work per person: 15\n",
    "\n",
    "# Submission Instructions\n",
    "\n",
    "**IMPORTANT** Please make sure you read the following instructions carefully. If you are unclear about any part of the assignment, ask questions **before** the assignment deadline. All course-related questions can be addressed on the course **[Piazza Platform](https://piazza.com/class/kvc3vzhsvh55rt)**.\n",
    "\n",
    "* Assignments are to be submitted in a **team of 2**.\n",
    "* Please include your **names**, **ID's**, **Teams usernames**, and **approximate total time spent per person** at the beginning of the Notebook in the space provided\n",
    "* Make sure you appropriately comment your code wherever required. \n",
    "* Your final submission should contain this completed Jupyter Notebook, including the bonus question (if you attempt it), and any necessary Python files.\n",
    "* Do **not** submit any data or cache files (e.g. `__pycache__`).\n",
    "* Upload the **zipped** folder (*.zip* is the only accepted extension) in **Teams**.\n",
    "* Only **one member** of the group should make the submisssion.\n",
    "* **Important** please name the submitted zip folder as: `Name1_id1_Name2_id2.zip`. The Jupyter Notebook should also be named: `Name1_id1_Name2_id2.ipynb`. This is **very important** for our internal organization epeatedly students fail to do this."
   ]
  },
  {
   "cell_type": "markdown",
   "metadata": {},
   "source": [
    "## 1 Calculus Revision (6 points)\n",
    "\n",
    "### 1.1 Critical Points (2 points)\n",
    "\n",
    "Consider the following functions: $f(x)=5x^2 +4x^3 −10$ and $g(x)=6(x−3)^3 +2$.\n",
    "\n",
    "1. Compute the first derivatives for both functions. (0.5 pts)\n",
    "2. Compute the second derivatives for both functions. (0.5 pts)\n",
    "3. Find all critical points for both functions (using first and second derivatives) and give their types (refer to lecture slides). Make sure to comment on how one determines the types of critical points. (1 pt)\n",
    "\n",
    "### 1.2 Local and Global (3 points)\n",
    "\n",
    "Some functions have more than one or two critical points such as function $h(x)=4x^2sin(x)+\\frac{e^x}{e^x+1} + x^3$.\n",
    "1. Compute the first derivative for $h$. (Hint: Use the Product and Quotient rules). (1 pt)\n",
    "2. Plot $h$ for the interval $x \\in (-4,5)$. Use an online resource like Wolfram Alpha or Desmos. (0.5 pt)\n",
    "3. Find the critical points from left to right and name them as $p_1, p_2,...p_n$ (no need for exact coordinates). For each point determine its type and if it is local or global. (0.5)\n",
    "4. Why can local minima cause optimization algorithms to fail? (0.5)\n",
    "\n",
    "### 1.3 Activation Functions (1.5 points)\n",
    "\n",
    "Three of the most commonly-used activation functions are the sigmoid function, hyperbolic tangent, and ReLU. The equations for these functions are provided below:\n",
    "\n",
    "* $\\sigma(x) = \\frac{1}{1+e^{-x}}$  \n",
    "\n",
    "* $\\tanh(x) = \\frac{e^{2x} - 1}{e^{2x} + 1}$\n",
    "\n",
    "* $\\text{ReLU}(x) =  \\bigg\\{ \\begin{array}{ll} 0, & x < 0 \\\\ x, & x > 0 \\\\ \\end{array}$\n",
    "\n",
    "Again, using code or an online resource like Wolfram Alpha or Desmos, graph each function along with its derivative. Make sure to include the plots in your solution.\n",
    "1. Discuss the differences you observe. (1 sentence)\n",
    "2. What are the advantages and disadvantages of each? In particular, think about how the range of the function and the amplitude of the derivative would affect a network. (2 sentences)\n"
   ]
  },
  {
   "cell_type": "markdown",
   "metadata": {},
   "source": [
    "### 1.1 <font color=\"green\">Done</font>\n",
    "\n",
    "1. $f'(x) = 10x + 12x^{2}$ and $g'(x) = 18(x-3)^{2}$\n",
    "\n",
    "2. $f''(x) = 10 + 24x$ and $36(x-3) = 36x - 108$\n",
    "    \n",
    "3. **For f(x)** $ = 5x^2 + 4x^3 − 10$ \n",
    "\n",
    "   \n",
    "**a)** get **x-coordinates** of critical points: set first derivative equal to zero:\n",
    "\n",
    "$f'(x) = 0\\newline\n",
    "10x + 12x^{2} = 0\\newline\n",
    "2x(6x + 5) = 0$\n",
    "\n",
    "$\\mathbf x_{1} = \\mathbf 0\\newline$\n",
    "\n",
    "$6x + 5 = 0\\newline\n",
    "6x = -5\\newline$\n",
    "\n",
    "$\\mathbf x_{2}= \\mathbf -\\frac{\\mathbf5}{\\mathbf6}$\n",
    "\n",
    "**b)** get **y-coordinates**: plug x-coordinates in f(x) = $5x^2 + 4x^3 − 10$:\n",
    "\n",
    "$f''(0) = 5(0)^{2} + 4(0)^{3} - 10\\newline\n",
    "f''(0) = - 10$\n",
    "\n",
    "$f''(-\\frac{5}{6}) = 5(-\\frac{5}{6})^{2} + 4(-\\frac{5}{6})^{3} - 10\\newline\n",
    "f''(-\\frac{5}{6}) = -\\frac{955}{108}$\n",
    "\n",
    "Coordinates of the **critical points**: (0, -10) and $(-\\frac{5}{6}, -\\frac{955}{108})$\n",
    "\n",
    "**c)** get **type of critical points**: plug in x-coordinates in second derivative of f(x) = $10 + 24x$:\n",
    "\n",
    "$f(0) = 10 + 12(0) = 10\\newline \n",
    "f(-\\frac{5}{6}) = 10 + 12(-\\frac{5}{6}) = -10$ \n",
    "\n",
    "For f''(0) we get a global minimum since the result is 10, i.e. > 0.\n",
    "For f''$(-\\frac{5}{6})$ we get a global maximum since the result is negative, i.e < 0.$\n",
    "\n",
    "\n",
    "3. **For g(x)** = $6(x−3)^3 +2$\n",
    "\n",
    "**a)** get **x-coordinates** of critical points: set first derivative equal to zero:\n",
    "\n",
    "$g'(x) = 0\\newline\n",
    "18(x-3)^2 = 0\\newline\n",
    "18x^{2} - 108x + 162 = 0$\n",
    "\n",
    "$\\mathbf x = \\mathbf 3\\newline$\n",
    "\n",
    "**b)** get **y-coordinates**: plug x-coordinates in g(x) = $6(x−3)^3 + 2$:\n",
    "\n",
    "$g(3) = 6(3-3)^{2} + 2\\newline\n",
    "f(3) = 2$\n",
    "\n",
    "Coordinates of the **critical point**: (3, 2)\n",
    "\n",
    "**c)** get **type of critical point**: plug in x-coordinates in second derivative of g(x) = $36x - 108$:\n",
    "\n",
    "$g''(3) = 36(3) - 108\\newline \n",
    "g''(3) = 0$ \n",
    "\n",
    "For g''(3) we get a saddle point because we get a value of zero when we plug in x = 3 for the second derivative of g(x)."
   ]
  },
  {
   "cell_type": "code",
   "execution_count": 1,
   "metadata": {},
   "outputs": [
    {
     "data": {
      "text/html": [
       "<style>\n",
       "div span,\n",
       "div img {\n",
       "    display: inline-block;\n",
       "    vertical-align: middle;\n",
       "}\n",
       "</style>\n"
      ],
      "text/plain": [
       "<IPython.core.display.HTML object>"
      ]
     },
     "metadata": {},
     "output_type": "display_data"
    }
   ],
   "source": [
    "%%html\n",
    "<style>\n",
    "div span,\n",
    "div img {\n",
    "    display: inline-block;\n",
    "    vertical-align: middle;\n",
    "}\n",
    "</style>"
   ]
  },
  {
   "cell_type": "markdown",
   "metadata": {},
   "source": [
    "### 1.2 \n",
    "<font color=\"green\">Done</font>\n",
    "\n",
    "1. $h'(x) = ((4x^{2} * cos(x)) + (sin(x) * 8x)) * \\frac{e^{x}}{(e^{x}+1)^{2}} + 3x^{2}$\n",
    "\n",
    "2. \n",
    "<div>\n",
    "    <img src=\"Plots/1.2_h(x).png\" width=\"300\", align=\"left\"/>\n",
    "    <span>\n",
    "    3. p1 (-2.7, -31.5) is a local minimum, p2 (0, 0.1) is a saddle point, p3 (2.8, 33) is a local maximum, p4 (4.5, 12.5) is a local minimum. If we only consider the range where x lies between -4 and 5, p1 would be a global minimum and p3 would be a global maximum. If we plot the function withinn a wider range, however, we can see that p1,p2,p3,p4 are all only local minima and maxima. This is because for this function lim(x) -> $\\infty = \\infty$ and lim(x) -> $- \\infty = - \\infty$.\n",
    "    </span>\n",
    "    <span>\n",
    "    4. Algorithms such as gradient descent are designed to minimise the loss function. Hence, they must find the lowest point, i.e. the point with the lowest gradient (= 0). In the case of local minima, there is a danger that the algorithm stops at this point and assumes that it has found the optimal value, but the optimal value is actually at an even lower, i.e. global minimum, which the algorithm does not know about at this point. With linear functions, such algorithms are guaranteed to find the global minimum, but especially with non-linear functions, there is a danger of getting stuck in local minima.\n",
    "    </span>\n",
    "<div>"
   ]
  },
  {
   "cell_type": "markdown",
   "metadata": {},
   "source": [
    "### 1.3 <font color=\"green\">Done</font>\n",
    "\n",
    "The first obvious difference between the tree functions is the range to which they map the input values:\n",
    "The logistic function maps inputs of any real values to the range (0,1), the tanh function has a higher range and\n",
    "maps inputs to the range (-1, 1), the ReLu function returns 0 for negative inputs, the (positive) value itself for\n",
    "positive inputs and is not defined for 0.\n",
    "\n",
    "**Sigmoid:** Since the sigmoid function maintains outputs in the range (0,1), it is especially useful for modelling machine learning applications in which a probability has to be predicted as an output since probability scores are always in the range (0,1). However, one of the main problems of the sigmoid function is the vanishing gradient problem. Since a large change in the input of the sigmoid function causes a small change in the output, the derivatives calculated during backpropagation by multiplying the derivatives of the individual layers become very small, i.e. the gradient vanishes. Accordingly, the learning process becomes very slow it takes a very long time for the model to converge to the optimum. This is a problem especially for networks with many layers.\n",
    "\n",
    "**Tanh:** The tanh function has the advantage over the sigmoid function that it also maps into the negative range and thus has a larger range (-1,1). This means that large negative inputs are mapped towards -1 and large positive inputs are mapped towards 1 and inputs around 0 to 0. Because of this property, this function helps to center the data by bringing the mean close to 0, which makes learning for the next layer easier. Although the gradient is stronger when using the tanh function than the sigmoid function, the tanh function also has the problem of the vanishing gradient.\n",
    "\n",
    "**ReLu:** The ReLu function is considered more powerful than the sigmoid and tanh functions, mainly because it does not have the problem of the vanishing gradient, since negative values are mapped to zero and positive values to the respective value itself, which can go to infinity. Therefore, it is faster, more accurate and more efficient than the other activation functions. The problem, however, is that it is not defined for 0 and therefore cannot learn on examples whose activation is equal to zero."
   ]
  },
  {
   "cell_type": "markdown",
   "metadata": {},
   "source": [
    "**Sigmoid Function:**\n",
    "\n",
    "<div>\n",
    "<img src=\"Plots/1.3_sigmoid.png\" width=\"300\", align=\"left\"/>\n",
    "</div>\n"
   ]
  },
  {
   "cell_type": "markdown",
   "metadata": {},
   "source": [
    "\n",
    "\n",
    "**Relu Function:**\n",
    "<div>\n",
    "<img src=\"Plots/1.3_relu.png\" width=\"300\", align=\"left\"/>\n",
    "</div>\n",
    "\n"
   ]
  },
  {
   "cell_type": "markdown",
   "metadata": {},
   "source": [
    "**Tanh Function:**\n",
    "<div>\n",
    "<img src=\"Plots/1.3_tanh.png\" width=\"330\", align=\"left\"/>\n",
    "</div>"
   ]
  },
  {
   "cell_type": "markdown",
   "metadata": {},
   "source": [
    "## 2.3 Neural Networks Hello World (4 points)\n",
    "\n",
    "Construct a neural network for the California Housing Prices dataset.\n",
    "It is composed of two linear layers with hidden dimensionality of $32$ and ReLU after the first layer: $L_{8\\rightarrow 32} \\circ \\text{ReLU} \\circ L_{32 \\rightarrow 1}$ where $L_{x\\rightarrow y}$ is a linear layer with $y$ hidden nodes (`nn.Linear(x, y)`).\n",
    "\n",
    "Split your data into dev and training sets (1000 training, 100 dev, discard rest) and optimize these networks with Adam with learning rate $10^{-3}$.\n",
    "Report MSE on both training and dev sets. You can use PyTorch built-in functions to solve this exercise. \n",
    "\n",
    "Notes:\n",
    "- Please read [this introduction to the optimization loop in PyTorch](https://pytorch.org/tutorials/beginner/basics/optimization_tutorial.html). It should give you a good overview to what PyTorch needs from you to train a neural network.\n",
    "- Run your training multiple times with different seeds because the results have quite high variance.\n",
    "- There are many optimizers available and Adam is an optimizer that's more complex than SGD (stochastic gradient descent). It has not yet been covered in the lecture but its usage in code is equivalent to that of SGD and performs much better.\n"
   ]
  },
  {
   "cell_type": "code",
   "execution_count": 1,
   "metadata": {},
   "outputs": [
    {
     "name": "stdout",
     "output_type": "stream",
     "text": [
      "Epoch 1\n",
      "-------------------------------\n",
      "training loss: 2.004368\n",
      "Avg Test loss: 3.153911 \n",
      "\n",
      "Epoch 2\n",
      "-------------------------------\n",
      "training loss: 0.594907\n",
      "Avg Test loss: 1.472173 \n",
      "\n",
      "Epoch 3\n",
      "-------------------------------\n",
      "training loss: 0.474009\n",
      "Avg Test loss: 0.842179 \n",
      "\n",
      "Epoch 4\n",
      "-------------------------------\n",
      "training loss: 0.534031\n",
      "Avg Test loss: 0.652950 \n",
      "\n",
      "Epoch 5\n",
      "-------------------------------\n",
      "training loss: 0.527124\n",
      "Avg Test loss: 0.572461 \n",
      "\n",
      "Epoch 6\n",
      "-------------------------------\n",
      "training loss: 0.498983\n",
      "Avg Test loss: 0.519563 \n",
      "\n",
      "Epoch 7\n",
      "-------------------------------\n",
      "training loss: 0.467698\n",
      "Avg Test loss: 0.481558 \n",
      "\n",
      "Epoch 8\n",
      "-------------------------------\n",
      "training loss: 0.438788\n",
      "Avg Test loss: 0.454109 \n",
      "\n",
      "Epoch 9\n",
      "-------------------------------\n",
      "training loss: 0.416025\n",
      "Avg Test loss: 0.436158 \n",
      "\n",
      "Epoch 10\n",
      "-------------------------------\n",
      "training loss: 0.397619\n",
      "Avg Test loss: 0.424781 \n",
      "\n",
      "Done!\n"
     ]
    },
    {
     "data": {
      "text/plain": [
       "<torch._C.Generator at 0x7f3aed347610>"
      ]
     },
     "execution_count": 1,
     "metadata": {},
     "output_type": "execute_result"
    }
   ],
   "source": [
    "from solution import *\n",
    "start()\n",
    "torch.manual_seed(50)"
   ]
  },
  {
   "cell_type": "markdown",
   "metadata": {},
   "source": [
    "# Bonus Learning Rate Effect on Performance (1 point)\n",
    "\n",
    "Run your neural network with different learning rates (scale logarithmically from $10^{-10}$ to $10^{0}$) and observe the effects on performance. Importantly keep the number of optimization steps (epochs) constant. Because the process is very random run the model multiple times (e.g. 3 times) and plot the results. Try to form hypothesis about the results which you got.\n",
    "\n",
    "Don't worry, the model training can be done on a CPU and is not computationally intensive."
   ]
  },
  {
   "cell_type": "code",
   "execution_count": 3,
   "metadata": {},
   "outputs": [
    {
     "name": "stdout",
     "output_type": "stream",
     "text": [
      "Done! 1e-10\n"
     ]
    },
    {
     "data": {
      "image/png": "[encoded data removed]",
      "text/plain": [
       "<Figure size 432x288 with 1 Axes>"
      ]
     },
     "metadata": {
      "needs_background": "light"
     },
     "output_type": "display_data"
    },
    {
     "name": "stdout",
     "output_type": "stream",
     "text": [
      "Done! 1e-09\n"
     ]
    },
    {
     "data": {
      "image/png": "[encoded data removed]",
      "text/plain": [
       "<Figure size 432x288 with 1 Axes>"
      ]
     },
     "metadata": {
      "needs_background": "light"
     },
     "output_type": "display_data"
    },
    {
     "name": "stdout",
     "output_type": "stream",
     "text": [
      "Done! 1e-08\n"
     ]
    },
    {
     "data": {
      "image/png": "[encoded data removed]",
      "text/plain": [
       "<Figure size 432x288 with 1 Axes>"
      ]
     },
     "metadata": {
      "needs_background": "light"
     },
     "output_type": "display_data"
    },
    {
     "name": "stdout",
     "output_type": "stream",
     "text": [
      "Done! 1e-07\n"
     ]
    },
    {
     "data": {
      "image/png": "[encoded data removed]",
      "text/plain": [
       "<Figure size 432x288 with 1 Axes>"
      ]
     },
     "metadata": {
      "needs_background": "light"
     },
     "output_type": "display_data"
    },
    {
     "name": "stdout",
     "output_type": "stream",
     "text": [
      "Done! 1e-06\n"
     ]
    },
    {
     "data": {
      "image/png": "[encoded data removed]",
      "text/plain": [
       "<Figure size 432x288 with 1 Axes>"
      ]
     },
     "metadata": {
      "needs_background": "light"
     },
     "output_type": "display_data"
    },
    {
     "name": "stdout",
     "output_type": "stream",
     "text": [
      "Done! 1e-05\n"
     ]
    },
    {
     "data": {
      "image/png": "[encoded data removed]",
      "text/plain": [
       "<Figure size 432x288 with 1 Axes>"
      ]
     },
     "metadata": {
      "needs_background": "light"
     },
     "output_type": "display_data"
    },
    {
     "name": "stdout",
     "output_type": "stream",
     "text": [
      "Done! 0.0001\n"
     ]
    },
    {
     "data": {
      "image/png": "[encoded data removed]",
      "text/plain": [
       "<Figure size 432x288 with 1 Axes>"
      ]
     },
     "metadata": {
      "needs_background": "light"
     },
     "output_type": "display_data"
    },
    {
     "name": "stdout",
     "output_type": "stream",
     "text": [
      "Done! 0.001\n"
     ]
    },
    {
     "data": {
      "image/png": "[encoded data removed]",
      "text/plain": [
       "<Figure size 432x288 with 1 Axes>"
      ]
     },
     "metadata": {
      "needs_background": "light"
     },
     "output_type": "display_data"
    },
    {
     "name": "stdout",
     "output_type": "stream",
     "text": [
      "Done! 0.01\n"
     ]
    },
    {
     "data": {
      "image/png": "[encoded data removed]",
      "text/plain": [
       "<Figure size 432x288 with 1 Axes>"
      ]
     },
     "metadata": {
      "needs_background": "light"
     },
     "output_type": "display_data"
    },
    {
     "name": "stdout",
     "output_type": "stream",
     "text": [
      "Done! 0.1\n"
     ]
    },
    {
     "data": {
      "image/png": "[encoded data removed]",
      "text/plain": [
       "<Figure size 432x288 with 1 Axes>"
      ]
     },
     "metadata": {
      "needs_background": "light"
     },
     "output_type": "display_data"
    },
    {
     "name": "stdout",
     "output_type": "stream",
     "text": [
      "Done! 1\n"
     ]
    },
    {
     "data": {
      "image/png": "[encoded data removed]",
      "text/plain": [
       "<Figure size 432x288 with 1 Axes>"
      ]
     },
     "metadata": {
      "needs_background": "light"
     },
     "output_type": "display_data"
    }
   ],
   "source": [
    "from solution_bonus import *\n",
    "start(0.0000000001)\n",
    "start(0.000000001)\n",
    "start(0.00000001)\n",
    "start(0.0000001)\n",
    "start(0.000001)\n",
    "start(0.00001)\n",
    "start(0.0001)\n",
    "start(0.001)\n",
    "start(0.01)\n",
    "start(0.1)\n",
    "start(1)"
   ]
  },
  {
   "cell_type": "markdown",
   "metadata": {},
   "source": [
    "If we choose the learning rate too high (for example 1 in our case) we risk that the model jumps over the minimum. \n",
    "If we choose the learning rate too low (everything smaller than 0.001 in our case) the model crawls very slowly to the minimum. 0.01 would be a good choice in our example."
   ]
  }
 ],
 "metadata": {
  "colab": {
   "collapsed_sections": [],
   "name": "assignment_3.ipynb",
   "provenance": []
  },
  "kernelspec": {
   "display_name": "Python 3 (ipykernel)",
   "language": "python",
   "name": "python3"
  },
  "language_info": {
   "codemirror_mode": {
    "name": "ipython",
    "version": 3
   },
   "file_extension": ".py",
   "mimetype": "text/x-python",
   "name": "python",
   "nbconvert_exporter": "python",
   "pygments_lexer": "ipython3",
   "version": "3.9.16"
  }
 },
 "nbformat": 4,
 "nbformat_minor": 4
}
