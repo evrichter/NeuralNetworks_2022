{
 "cells": [
  {
   "cell_type": "markdown",
   "metadata": {
    "id": "ZT_S_io_85jk"
   },
   "source": [
    "# NNIA Assignment 2\n",
    "\n",
    "**DEADLINE: 23.11.2022 08:00 CET**\n",
    "\n",
    "- Name & ID 1 (Teams username e.g. s8xxxxx): Eva Richter & 2559531 (s8evrich)\n",
    "- Name & ID 2 (Teams username e.g. s8xxxxx): Antonia Wächter & 7007542 (anwa00001)\n",
    "- Name & ID 3 (Teams username e.g. s8xxxxx):\n",
    "- Hours of work per person: 15 \n",
    "\n",
    "# Submission Instructions\n",
    "\n",
    "**IMPORTANT** Please make sure you read the following instructions carefully. If you are unclear about any part of the assignment, ask questions **before** the assignment deadline. All course-related questions can be addressed on the course **[Piazza Platform](https://piazza.com/class/kvc3vzhsvh55rt)**\n",
    "\n",
    "* Assignments are to be submitted in a **team of 2 or3**. It is the last assignment for which we allow single-person submission.\n",
    "* Please include your **names**, **ID's**, **Teams usernames**, and **approximate total time spent per person** at the beginning of the Notebook in the space provided\n",
    "* Make sure you appropriately comment your code wherever required. \n",
    "* Your final submission should contain this completed Jupyter Notebook, including the bonus question (if you attempt it), and any necessary Python files.\n",
    "* Do **not** submit any data or cache files (e.g. `__pycache__`).\n",
    "* Upload the **zipped** folder (*.zip* is the only accepted extension) in **Teams**.\n",
    "* Only **one member** of the group should make the submisssion.\n",
    "* **Important** please name the submitted zip folder as: `Name1_id1_Name2_id2.zip`. The Jupyter Notebook should also be named: `Name1_id1_Name2_id2.ipynb`. This is **very important** for our internal organization epeatedly students fail to do this.\n",
    "\n",
    "<font color=\"red\">Failure to follow the above instructions will result in point penalties at the discretion of the instructors.</font>."
   ]
  },
  {
   "cell_type": "markdown",
   "metadata": {
    "id": "ue-BOaIaFMun"
   },
   "source": [
    "# 1 Eigendecomposition and SVD (3p)\n",
    "Please, review slides and chapters 2.7 Eigendecomposition and 2.8 Singular value decomposition from [Deep Learning book](https://www.deeplearningbook.org/contents/linear_algebra.html) and do the following exercises:\n",
    "\n",
    "1. (1p) Let matrix $A = \\begin{bmatrix} 8 & -5 \\\\ 6 & -3 \\end{bmatrix}$ \n",
    "\n",
    "* Is $\\begin{bmatrix} 1 \\\\ 1 \\end{bmatrix}$ an eigenvector of $A$?  Why or why not?\n",
    "\n",
    "* Compute all eigenvectors and eigenvalues of $A$.\n",
    "\n",
    "\n",
    "\n",
    "2. (1p) Let $B$ be a matrix with eigenvalues $a = -2$ and $b = 0$ and corresponding eigenvectors $v = \\begin{bmatrix} 0.6 \\\\ 0.8 \\end{bmatrix}$ and $w = \\begin{bmatrix} 0.8 \\\\ -0.6 \\end{bmatrix}$. Compute Matrix $B$ and show how you did it. \n",
    "\n",
    "3. (0.5p) Provide definitions of **singular**, **positive definite**, **positive semi-definite**, **negative definite** and **negative semi-definite** matrices. What are the types of matrices A and B?\n",
    "\n",
    "4. (0.5p) How is singular value decomposition different to eigendecomposion? When do we use SVD over eigendecompostion? "
   ]
  },
  {
   "cell_type": "markdown",
   "metadata": {
    "id": "M2qU8koDBxux"
   },
   "source": [
    "## 1.1 <font color=\"green\">Done</font> \n",
    "* Yes, because A multiplied with the vector is  $\\begin{bmatrix} 3 \\\\ 3 \\end{bmatrix}$ which is the eigenvector multiplied by scalar 3.\n",
    "\n",
    "\n",
    "\n",
    "1. Multiply an nxn identity matrix by the scalar lambda ($\\lambda$)\n",
    "\n",
    "$\\lambda * I = \\lambda *\\begin{bmatrix} 1 & 0 \\\\ 0 & 1 \\end{bmatrix} = \\begin{bmatrix} \\lambda & 0 \\\\ 0 & \\lambda \\end{bmatrix}$ \n",
    "\n",
    "2. Subtract the identity matrix multiple from the matrix A\n",
    "\n",
    "$A - \\lambda * I = \\begin{bmatrix} 8 & -5 \\\\ 6 & -3 \\end{bmatrix} - \\begin{bmatrix} \\lambda & 0 \\\\ 0 & \\lambda\\end{bmatrix} = \\begin{bmatrix} 8 - \\lambda & -5 \\\\ 6 & -3 - \\lambda \\end{bmatrix}$ \n",
    "\n",
    "3. Find the determinant of the matrix and the difference\n",
    "\n",
    "$((8 - \\lambda) * (-3 - \\lambda)) - ((6) * (-5)) = -24 - 8\\lambda + 3\\lambda + \\lambda^{2} + 30 = \\lambda^{2} - 5\\lambda + 6$\n",
    "\n",
    "4. Solve the values of $\\lambda$ that satisfy the equation det$(A -\\lambda * I) = \\overline{0}$\n",
    "\n",
    "$ \\lambda^{2} -  5\\lambda + 6 = 0\\newline\n",
    "\\lambda^{2} -  5\\lambda = -6 \\newline\n",
    " (\\lambda - 2) * (\\lambda - 3)$\n",
    "\n",
    "**Eigenvalues:** $\\lambda = 2, \\lambda = 3$\n",
    "\n",
    "5. Solve the corresponding vector to each $\\lambda$\n",
    "\n",
    "a) **For** $\\lambda$ **= 2:**\n",
    "\n",
    "$\\begin{bmatrix} 8 - \\lambda & -5 \\\\ 6 & -3 - \\lambda \\end{bmatrix} = \\begin{bmatrix} 8 - 2 & -5 \\\\ 6 & -3 - 2\\end{bmatrix} = \\begin{bmatrix} 6 & -5 \\\\ 6 & -5 \\end{bmatrix}$\n",
    "\n",
    "$B * \\overline{x} = \\overline{0}: \\begin{bmatrix} 6 & -5 \\\\ 6 & -5 \\end{bmatrix} * \\begin{bmatrix} x_{1} \\\\ x_{2}\\end{bmatrix} = \\begin{bmatrix} 0 \\\\ 0\\end{bmatrix}$\n",
    "\n",
    "$ \\begin{bmatrix} 6 & -5 & | 0 \\\\ 6 & -5 &| 0 \\end{bmatrix} => R_{2} - 1 * R_{1} -> R_{2} = \\begin{bmatrix} 6 & -5 & | 0 \\\\ 0 & 0 &| 0 \\end{bmatrix}\\newline$\n",
    "\n",
    "$(1) \\space 6x_{1} - 5x_{2} = 0$\n",
    "\n",
    "Find the variable $x_{1}$ from equation 1 of the system (1)\n",
    "\n",
    "$6x_{1} = 5x_{2}\\newline\n",
    "x_{1} = \\frac{5} {6} * x_{2}\\newline$\n",
    "\n",
    "Solutions:\n",
    "\n",
    "$x_{1} = \\frac{5} {6} * x_{2}\\newline\n",
    "x_{2} = x_{2}$\n",
    "\n",
    "\n",
    "b) **For** $\\lambda$ **= 3:**\n",
    "\n",
    "$\\begin{bmatrix} 8 - \\lambda & -5 \\\\ 6 & -3 - \\lambda \\end{bmatrix} = \\begin{bmatrix} 8 - 3 & -5 \\\\ 6 & -3 - 3\\end{bmatrix} = \\begin{bmatrix} 5 & -5 \\\\ 6 & -6 \\end{bmatrix}$\n",
    "\n",
    "$B * \\overline{x} = \\overline{0}: \\begin{bmatrix} 5 & -5 \\\\ 6 & -6 \\end{bmatrix} * \\begin{bmatrix} x_{1} \\\\ x_{2}\\end{bmatrix} = \\begin{bmatrix} 0 \\\\ 0\\end{bmatrix}$\n",
    "\n",
    "$ \\begin{bmatrix} 5 & -5 & | 0 \\\\ 6 & -6 &| 0 \\end{bmatrix} => R_{2} * \\frac{-6}{5} * R_{1} -> R_{2} = \\begin{bmatrix} 5 & -5 & | 0 \\\\ 0 & 0 &| 0 \\end{bmatrix}\\newline$\n",
    "\n",
    "Find the variable $x_{1}$ from equation 1 of the system (1)\n",
    "\n",
    "$5x_{1} = 5x_{2}\\newline\n",
    "x_{1} = x_{2}\\newline$\n",
    "\n",
    "Solutions:\n",
    "\n",
    "$x_{1} = x_{2}\\newline\n",
    "x_{2} = x_{2}$\n",
    "\n",
    "a) **Eigenvectors (solution sets):**\n",
    "$\\Big\\{x_{2} * \\begin{bmatrix} \\frac {5} {6} \\\\ 1 \\end{bmatrix}\\Big\\}$\n",
    "\n",
    "b) **Eigenvectors (solution sets):**\n",
    "$\\Big\\{x_{2} * \\begin{bmatrix} 1 \\\\ 1 \\end{bmatrix}\\Big\\}$\n",
    "\n",
    "\n",
    "## 1.2 <font color=\"green\">Done</font> \n",
    "Matrix B can be computed as the product of matrix V, whose columns are the eigenvectors $v = \\begin{bmatrix} 0.6 \\\\ 0.8 \\end{bmatrix}$ and $w = \\begin{bmatrix} 0.8 \\\\ -0.6 \\end{bmatrix}$, matrix A, whose diagonal is defined by the eigenvalues $a = -2$ and $b = 0$ and matrix V$^{-1}$ (the inverse of matrix V), where V$^{-1}$ is calculated as\n",
    "\n",
    "$\\frac {1} {det(A)} * \\begin{bmatrix} 0.6 & 0.8 \\\\ 0.8 & -0.6 \\end{bmatrix} = \\frac{1}{ad - bc} * \\begin{bmatrix} d & -b \\\\ -c & a \\end{bmatrix} = \\frac {1} {((0.6) * (-0.6)) - ((0.8) * (0.8))} * \\begin{bmatrix} -0.6 & -0.8 \\\\ -0.8 & 0.6 \\end{bmatrix} = \\begin{bmatrix} 0.6 & 0.8 \\\\ 0.8 & -0.6 \\end{bmatrix}$\n",
    "\n",
    "$B = V*A*V^{-1} => \\begin{bmatrix} 0.6 & 0.8 \\\\ 0.8 & -0.6 \\end{bmatrix} * \\begin{bmatrix} -2 & 0 \\\\ 0 & 0 \\end{bmatrix} * \\begin{bmatrix} 0.6 & 0.8 \\\\ 0.8 & -0.6 \\end{bmatrix} = \\begin{bmatrix} -0.72 & -0.96 \\\\ -0.96 & -1.28 \\end{bmatrix} $\n",
    "\n",
    "\n",
    "## 1.3 <font color=\"green\">Done</font>\n",
    "**singular:** A singular matrix is a matrix that is not invertible. For it to be non-invertible, a) it must be satisfied that the matrix is square and b) that the determinant of the matrix is zero. If this is fulfilled, the matrix is not invertible and therefore singular, because the inverse of a matrix A results from the adjugate of the matrix A divided by the determinant of the matrix A and if the determinant in the denominator is 0, this fraction and therefore the inverse of the singular matrix is not defined. <br>\n",
    "**positive definite**: If the matrix is a real symmetric matrix, then it is positive definite if all of its eigenvalues are positive. <br>\n",
    "**positive semi-definite** If the matrix is a real symmetric matrix, then is is positive semi-definite\n",
    "if all of its eigenvalues are non-negative. <br>\n",
    "**negative definite**: If the matrix is a real symmetric matrix, then it is negative definite if all of its eigenvalues are negative. <br>\n",
    "**negative semi-definite** If the matrix is a real symmetric matrix, then it is negative semi-definite\n",
    "if all of its eigenvalues are non-positive. <br>\n",
    "\n",
    "* Matrix A is a positive definite matrix since its eigenvalues are positive (2 and 3). It is not a singular matrix because its determinant is not zero (but 6).\n",
    "* Matrix B is a negative semi-definite matrix because its eigenvalues are zero and below zero (-2 and 0). Its also a singular matrix because it is a square matrix and its determinant is zero: det(A) = (a * b) - (b * c) => ((-0.72) * (-1.28)) - ((-0.96) * (-0.96)) = 0. Since this matrix and its inverse are the same, it is furthermore an orthogonal, symmetric matrix.\n",
    "\n",
    "## 1.4 <font color=\"green\">Done</font>  \n",
    "* SVD exists for square and rectangular matrices, whereas eigendecomposition only exists for square martrices, and even for square matrices it doesn't always exist.\n",
    "* In the SVD the entries in the diagonal matrix are all real and nonnegative (=positive semi-definite matrix). In the eigendecomposition, the entries of the diagonal matrix can be any also negative and in general any complex number.\n",
    "* In SVD, the nondiagonal matrices (like V and V$^{-1}$ in 1.2) are not always the inverse of one another, but in eigendecomposition they are inverses of each other.\n",
    "\n",
    "* SVD is more general than eigendecomposition because it can be applied to matrices beyond square normal matrices with an orthonormal eigenbasis. Hence, SVD is used when we have any other $m x n$ matrix."
   ]
  },
  {
   "cell_type": "code",
   "execution_count": 4,
   "metadata": {},
   "outputs": [
    {
     "name": "stdout",
     "output_type": "stream",
     "text": [
      "[[ 8 -5]\n",
      " [ 6 -3]]\n",
      "[3. 2.]\n",
      "[[0.70710678 0.6401844 ]\n",
      " [0.70710678 0.76822128]]\n",
      "----------------------------------------\n",
      "[[-0.72 -0.96]\n",
      " [-0.96 -1.28]]\n"
     ]
    }
   ],
   "source": [
    "#Alternatively to 1.1b) we can compute the eigenvalues and eigenvectors using the following code:\n",
    "\n",
    "import numpy as np\n",
    "from numpy import array\n",
    "from numpy.linalg import eig\n",
    "A= array([[8,-5],[6,-3]])\n",
    "print(A)\n",
    "values,vectors=np.linalg.eig(A)\n",
    "print(values)\n",
    "print(vectors)\n",
    "print(40*\"-\")\n",
    "\n",
    "#Alternatively to 1.2) we can use the following code to find the matrix:\n",
    "values= array([-2,0])\n",
    "vectors= array([[0.6,0.8],[0.8, -0.6]])\n",
    "#create inverse of eigenvectors matrix\n",
    "VT=np.linalg.inv(vectors)\n",
    "#create diagonal matrix from eigenvalues\n",
    "L=np.diag(values)\n",
    "#find matrix B\n",
    "B = np.dot(np.dot(vectors,L),VT)\n",
    "print(B)"
   ]
  },
  {
   "cell_type": "markdown",
   "metadata": {
    "id": "H9-_bjMYVpCX"
   },
   "source": [
    "# 2 PCA (5p)\n",
    "## 2.1 PCA Intuition (2p)\n",
    "Carefully read this [blog post](https://builtin.com/data-science/step-step-explanation-principal-component-analysis) by Zakaria Jaadi and answer the following questions about PCA\n",
    "\n",
    "1. What is the motivation for using PCA? (0.3p)\n",
    "\n",
    "2. Let's assume dataset with 5 features and training samples, that use all dimensions (non-degenerate case). How many principal components are there? (0.3p)\n",
    "\n",
    "3. How can we tell if one principal component accounts for more information than another? (0.3p)\n",
    "\n",
    "4. What is a reconstruction error? (0.3p)\n",
    "\n",
    "5. What is the reconstruction error of $k$-dimensional dataset reduced to $k$ dimensions and then reconstructed? (0.3)\n",
    "\n",
    "6. Can Singular Value Decomposition (SVD) be used for dimensionality reduction as well? Why, why not? (0.5)\n"
   ]
  },
  {
   "cell_type": "markdown",
   "metadata": {
    "id": "pTcs54aydauk"
   },
   "source": [
    "## 2.1 <font color=\"green\">Done</font> \n",
    "1. The motivation for using PCA is dimensionality reduction for simplification purposes. The goal is to obtain a data set with less variables which is easier to visualize and analyse, but still contains most of the important information despite a decrease in accuracy.\n",
    "\n",
    "2. A dataset with 5 features has 5 principal components since there are as many principal components as there are variables in the data.\n",
    "\n",
    "3. You can tell by the amount of variance for for how much information a principal component it accounts. This is because the larger the variance for which a principal component accounts, the larger the dispersion along a line (from a geometric perspective), the more information it has. \n",
    "\n",
    "4. The reconstruction error is the sum of the distances between the original data points and the data points found by reconstructing the original data from the projection, i.e. the reconstructed data points are subtracted from the respective original data points and the differences are summed up. This can be implemented using the MSE, based on which the distances are summed, raised to the power of 2 and divided by the number of data points.\n",
    "\n",
    "5. The reconstruction error would be 0.\n",
    "\n",
    "6. Yes, SVD can be used for dimensionality reduction as well. Most implementations of PCA actually perform SVD under the hood rather than doing eigen decomposition on the covariance matrix because SVD can be much more efficient and is able to handle sparse matrices.\n"
   ]
  },
  {
   "cell_type": "markdown",
   "metadata": {
    "id": "iqxdT1Ol2hB_"
   },
   "source": []
  },
  {
   "cell_type": "markdown",
   "metadata": {
    "id": "5MVVGTFi2t_j"
   },
   "source": [
    "## 2.2 Coding PCA (3p)\n",
    "For this exercise, please, refer to the [blog post](https://builtin.com/data-science/step-step-explanation-principal-component-analysis) from 2.1. You are allowed to use [sklearn.decomposition.PCA](https://scikit-learn.org/stable/modules/generated/sklearn.decomposition.PCA.html) to solve this task.\n",
    "\n",
    "1. The file `birds.csv` contains a dataset of birds with two features: wing span and body mass. This is a very simplified dataset of 20 samples taken from the [Birds of Minesota Dataset](https://github.com/microsoft/Data-Science-For-Beginners/blob/main/data/birds.csv) (1.5p).\n",
    " - Load the data into your script\n",
    " - Run PCA into 1 dimension\n",
    " - Reconstruct the original data\n",
    " - Compute reconstruction error\n",
    "2. Plot the following (1.5p): \n",
    " - Original data\n",
    " - Pre-processed data\n",
    " - Data projected into 1D using PCA\n",
    " - Reconstructed data\n",
    " - Reconstructed data + post-processing (mean, std)\n",
    "\n",
    "\n"
   ]
  },
  {
   "cell_type": "code",
   "execution_count": 11,
   "metadata": {
    "id": "zlOCs1rl12wK"
   },
   "outputs": [],
   "source": [
    "# Following imports could be useful to solving this assignment\n",
    "import os\n",
    "import csv\n",
    "import numpy as np\n",
    "import pandas as pd\n",
    "from matplotlib import pyplot as plt\n",
    "from sklearn.decomposition import PCA\n",
    "from sklearn.preprocessing import StandardScaler\n",
    "from sklearn.datasets import fetch_california_housing"
   ]
  },
  {
   "cell_type": "markdown",
   "metadata": {
    "id": "gxc9nwBVpLrv"
   },
   "source": [
    "### 2.2.1 PCA to 1 dimension of the `birds.csv` data\n",
    "\n"
   ]
  },
  {
   "cell_type": "code",
   "execution_count": 12,
   "metadata": {
    "id": "z06yiWz47KJp",
    "scrolled": true
   },
   "outputs": [
    {
     "name": "stdout",
     "output_type": "stream",
     "text": [
      "The autoreload extension is already loaded. To reload it, use:\n",
      "  %reload_ext autoreload\n",
      "Reconstruction error: 22376.390907276826\n",
      "Original Data:\n"
     ]
    },
    {
     "data": {
      "image/png": "[encoded data removed]",
      "text/plain": [
       "<Figure size 432x288 with 1 Axes>"
      ]
     },
     "metadata": {
      "needs_background": "light"
     },
     "output_type": "display_data"
    },
    {
     "name": "stdout",
     "output_type": "stream",
     "text": [
      "Preprocessed Data:\n"
     ]
    },
    {
     "data": {
      "image/png": "[encoded data removed]",
      "text/plain": [
       "<Figure size 432x288 with 1 Axes>"
      ]
     },
     "metadata": {
      "needs_background": "light"
     },
     "output_type": "display_data"
    },
    {
     "name": "stdout",
     "output_type": "stream",
     "text": [
      "Data projected into 1D using PCA\n"
     ]
    },
    {
     "data": {
      "image/png": "[encoded data removed]",
      "text/plain": [
       "<Figure size 432x288 with 1 Axes>"
      ]
     },
     "metadata": {
      "needs_background": "light"
     },
     "output_type": "display_data"
    },
    {
     "name": "stdout",
     "output_type": "stream",
     "text": [
      "reconstructed standardised data\n"
     ]
    },
    {
     "data": {
      "image/png": "[encoded data removed]",
      "text/plain": [
       "<Figure size 432x288 with 1 Axes>"
      ]
     },
     "metadata": {
      "needs_background": "light"
     },
     "output_type": "display_data"
    },
    {
     "name": "stdout",
     "output_type": "stream",
     "text": [
      "Reconstructed Data:\n"
     ]
    },
    {
     "data": {
      "image/png": "[encoded data removed]",
      "text/plain": [
       "<Figure size 432x288 with 1 Axes>"
      ]
     },
     "metadata": {
      "needs_background": "light"
     },
     "output_type": "display_data"
    },
    {
     "name": "stdout",
     "output_type": "stream",
     "text": [
      "Reconstructed data + post-processing (mean, std):\n"
     ]
    },
    {
     "data": {
      "image/png": "[encoded data removed]",
      "text/plain": [
       "<Figure size 432x288 with 1 Axes>"
      ]
     },
     "metadata": {
      "needs_background": "light"
     },
     "output_type": "display_data"
    },
    {
     "name": "stdout",
     "output_type": "stream",
     "text": [
      "mean BodyMass\n",
      "651.0529823023126\n",
      "mean Wingspan\n",
      "650.6297679274022\n",
      "std BodyMass\n",
      "563.1920116394667\n",
      "std Wingspan\n",
      "562.7947287277635\n"
     ]
    }
   ],
   "source": [
    "%load_ext autoreload\n",
    "%autoreload 2\n",
    "from solution import birds \n",
    "birds()\n",
    "\n",
    "# import your function from your .py file here and run this cell when you're done!"
   ]
  },
  {
   "cell_type": "markdown",
   "metadata": {
    "id": "BVXyojjHp8M0"
   },
   "source": [
    "### 2.2.2 Plotting"
   ]
  },
  {
   "cell_type": "markdown",
   "metadata": {
    "id": "9XSWCBafsu9E"
   },
   "source": [
    "is already done above in function birds()"
   ]
  },
  {
   "cell_type": "markdown",
   "metadata": {
    "id": "JogomKwwRB27"
   },
   "source": [
    "# 3 Component Selection (2 points)\n",
    "Load the built-in `California Housing Dataset` from `sklearn` and compute PCA of 1 to 14 dimensions (principal components). Plot a graph _reconstruction error_ $\\times$ _number of principal components_. How many principal components (dimensions) would you use for your compression?\n",
    "\n",
    "For more information on the dataset, please refer to the [sklearn documentation](https://scikit-learn.org/stable/modules/generated/sklearn.datasets.fetch_california_housing.html#sklearn.datasets.fetch_california_housing)"
   ]
  },
  {
   "cell_type": "markdown",
   "metadata": {
    "id": "13EgQJtJdu7w"
   },
   "source": [
    "## 3 <font color=\"green\">Done</font>\n"
   ]
  },
  {
   "cell_type": "code",
   "execution_count": 13,
   "metadata": {
    "id": "hRCRb0iadH1g"
   },
   "outputs": [
    {
     "name": "stdout",
     "output_type": "stream",
     "text": [
      "The autoreload extension is already loaded. To reload it, use:\n",
      "  %reload_ext autoreload\n",
      "Reconstruction Error: 1205979.4501163466\n",
      "Reconstruction Error: 1181523.981772527\n",
      "Reconstruction Error: 491946.8917204903\n",
      "Reconstruction Error: 385892.43757725216\n",
      "Reconstruction Error: 385698.2368108044\n",
      "Reconstruction Error: 115.71654109079425\n",
      "Reconstruction Error: 10.338234376736407\n",
      "Reconstruction Error: 6.408411634985814e-25\n"
     ]
    },
    {
     "data": {
      "image/png": "[encoded data removed]",
      "text/plain": [
       "<Figure size 432x288 with 1 Axes>"
      ]
     },
     "metadata": {
      "needs_background": "light"
     },
     "output_type": "display_data"
    }
   ],
   "source": [
    "%load_ext autoreload\n",
    "%autoreload 2\n",
    "\n",
    "l=[]\n",
    "index=[1,2,3,4,5,6,7,8]\n",
    "\n",
    "from solution import component_selection\n",
    "for x in range(1,9):\n",
    "    l.append(component_selection(x))\n",
    "\n",
    "plt.plot(index,l)\n",
    "plt.xlabel(\"number of principal components\")\n",
    "plt.ylabel(\"reconstruction error\")\n",
    "plt.show()\n",
    "\n",
    "# import your function from your .py file here and run this cell when you're done!"
   ]
  },
  {
   "cell_type": "markdown",
   "metadata": {},
   "source": [
    "By looking at the plot we see a drop off after the third principal component. So it makes sense to use the first three principal components. Like this vizualization is quite easy as well.\n",
    "There is also a significant drop off after the sixth component. So if we want to minimize the reconstruction error and good vizualization is not our primary goal, it would also be an alternative to use the first six principal components.\n"
   ]
  },
  {
   "cell_type": "markdown",
   "metadata": {
    "id": "C5Pu7huYRyoW"
   },
   "source": [
    "# Bonus: PCA from scratch (2 points)\n",
    "\n",
    "If you used sklearn's implementation to complete the previous exercises, implement PCA without using an existing library implementation. You may use built-in/library functions for matrix operations (covariance, eigenvalues and eigenvectors, transpose, etc.)."
   ]
  },
  {
   "cell_type": "code",
   "execution_count": 14,
   "metadata": {},
   "outputs": [
    {
     "name": "stdout",
     "output_type": "stream",
     "text": [
      "Reconstruction error of the original data: 2846968.202687598\n"
     ]
    }
   ],
   "source": [
    "data_original = pd.read_csv(\"birds.csv\") # load data\n",
    "\n",
    "\n",
    "# STEP 1: Standardise the data \n",
    "mean = np.mean(data_original, axis = 0)\n",
    "std = np.std(data_original)\n",
    "data_standardised = (data_original - mean)/std\n",
    "#print(data_standardised)\n",
    "\n",
    "# STEP 2: Covariance Matrix Computation\n",
    "cov_matrix = np.cov(data_standardised, bias=True)\n",
    "#print(cov_matrix)\n",
    "\n",
    "# STEP 3: Compute the eigenvectors and eigenvalues from the covariance matrix\n",
    "eigenvalues , eigenvectors = np.linalg.eigh(cov_matrix)\n",
    "#sort eigenvalues and eigenvectors in descending order\n",
    "position = eigenvalues.argsort()[::-1]   \n",
    "eigenvalues_sorted = eigenvalues[position]\n",
    "eigenvectors_sorted = eigenvectors[:,position]\n",
    "# STEP 4: Create feature vector (= reduced data set)\n",
    "# select subset with n = 1 create reduced data (1 dimension) \n",
    "n_components = 1\n",
    "feature_vector = eigenvectors_sorted[:,0:n_components]\n",
    "\n",
    "# STEP 5: Recast the Data Along the Principal Components Axes\n",
    "data_standardised_reconstructed = np.dot(feature_vector.transpose(), data_standardised).transpose()\n",
    "data_original_reconstructed = np.dot(feature_vector, data_standardised_reconstructed.transpose()).transpose()\n",
    "\n",
    "# Calculate reconstruction error\n",
    "mse = np.sum((data_original - data_original_reconstructed.transpose())**2, axis=1).mean()\n",
    "print(\"Reconstruction error of the original data:\", mse)"
   ]
  }
 ],
 "metadata": {
  "colab": {
   "collapsed_sections": [],
   "provenance": []
  },
  "kernelspec": {
   "display_name": "Python 3 (ipykernel)",
   "language": "python",
   "name": "python3"
  },
  "language_info": {
   "codemirror_mode": {
    "name": "ipython",
    "version": 3
   },
   "file_extension": ".py",
   "mimetype": "text/x-python",
   "name": "python",
   "nbconvert_exporter": "python",
   "pygments_lexer": "ipython3",
   "version": "3.8.10"
  }
 },
 "nbformat": 4,
 "nbformat_minor": 1
}
